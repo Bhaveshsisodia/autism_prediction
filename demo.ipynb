{
 "cells": [
  {
   "cell_type": "code",
   "execution_count": 1,
   "metadata": {},
   "outputs": [],
   "source": [
    "import pandas as pd\n",
    "import pymongo\n"
   ]
  },
  {
   "cell_type": "markdown",
   "metadata": {},
   "source": [
    "## Data Ingestion"
   ]
  },
  {
   "cell_type": "code",
   "execution_count": 2,
   "metadata": {},
   "outputs": [
    {
     "name": "stdout",
     "output_type": "stream",
     "text": [
      "artifact\\08_06_2024_19_49_09\n",
      "mongodb://localhost:27017/\n",
      "autism_prediction\n",
      "None autism_prediction <Autism.configuration.mongo_db_connection.MongoDBClient object at 0x000001B81A5F4B50>\n",
      "      ID  A1_Score  A2_Score  A3_Score  A4_Score  A5_Score  A6_Score  \\\n",
      "0      1         1         0         1         0         1         0   \n",
      "1      2         0         0         0         0         0         0   \n",
      "2      3         1         1         1         1         1         1   \n",
      "3      4         0         0         0         0         0         0   \n",
      "4      5         0         0         0         0         0         0   \n",
      "..   ...       ...       ...       ...       ...       ...       ...   \n",
      "795  796         0         1         0         0         0         0   \n",
      "796  797         0         1         1         0         0         1   \n",
      "797  798         0         0         0         0         0         0   \n",
      "798  799         0         0         0         0         0         0   \n",
      "799  800         0         1         0         0         0         0   \n",
      "\n",
      "     A7_Score  A8_Score  A9_Score  ...  gender       ethnicity jaundice  \\\n",
      "0           1         0         1  ...   False               ?       no   \n",
      "1           0         0         0  ...       m               ?       no   \n",
      "2           1         1         1  ...       m  White-European       no   \n",
      "3           0         0         0  ...   False               ?       no   \n",
      "4           0         0         0  ...       m               ?       no   \n",
      "..        ...       ...       ...  ...     ...             ...      ...   \n",
      "795         0         0         1  ...       m        Hispanic       no   \n",
      "796         0         1         1  ...       m  White-European       no   \n",
      "797         0         0         0  ...       m     South Asian      yes   \n",
      "798         0         0         0  ...   False               ?       no   \n",
      "799         0         0         0  ...   False               ?       no   \n",
      "\n",
      "    austim         contry_of_res used_app_before     result     age_desc  \\\n",
      "0       no               Austria              no   6.351166  18 and more   \n",
      "1       no                 India              no   2.255185  18 and more   \n",
      "2      yes         United States              no  14.851484  18 and more   \n",
      "3       no         United States              no   2.276617  18 and more   \n",
      "4       no          South Africa              no  -4.777286  18 and more   \n",
      "..     ...                   ...             ...        ...          ...   \n",
      "795     no           New Zealand              no  12.999501  18 and more   \n",
      "796     no                Cyprus              no  13.561518  18 and more   \n",
      "797     no           New Zealand              no   2.653177  18 and more   \n",
      "798     no                Canada              no   9.069342  18 and more   \n",
      "799     no  United Arab Emirates             yes   2.243304  18 and more   \n",
      "\n",
      "     relation Class/ASD  \n",
      "0        Self         0  \n",
      "1        Self         0  \n",
      "2        Self         1  \n",
      "3        Self         0  \n",
      "4        Self         0  \n",
      "..        ...       ...  \n",
      "795      Self         0  \n",
      "796      Self         0  \n",
      "797      Self         0  \n",
      "798      Self         0  \n",
      "799      Self         0  \n",
      "\n",
      "[800 rows x 22 columns]\n"
     ]
    },
    {
     "data": {
      "text/plain": [
       "DataIngestionArtifact(trained_file_path='artifact\\\\08_06_2024_19_49_09\\\\data_ingestion\\\\ingested\\\\train.csv', test_file_path='artifact\\\\08_06_2024_19_49_09\\\\data_ingestion\\\\ingested\\\\test.csv')"
      ]
     },
     "execution_count": 2,
     "metadata": {},
     "output_type": "execute_result"
    }
   ],
   "source": [
    "from Autism.components.data_ingestion import DataIngestion\n",
    "from Autism.entity.config_entity import DataIngestionConfig\n",
    "from Autism.entity.config_entity import TrainingPipelineConfig\n",
    "\n",
    "emp1 = DataIngestion(data_ingestion_config=DataIngestionConfig(training_pipeline_config=TrainingPipelineConfig()))\n",
    "emp1.initiate_data_ingestion()"
   ]
  },
  {
   "cell_type": "code",
   "execution_count": null,
   "metadata": {},
   "outputs": [],
   "source": []
  },
  {
   "cell_type": "code",
   "execution_count": null,
   "metadata": {},
   "outputs": [],
   "source": []
  },
  {
   "cell_type": "code",
   "execution_count": null,
   "metadata": {},
   "outputs": [],
   "source": []
  }
 ],
 "metadata": {
  "kernelspec": {
   "display_name": "Python 3",
   "language": "python",
   "name": "python3"
  },
  "language_info": {
   "codemirror_mode": {
    "name": "ipython",
    "version": 3
   },
   "file_extension": ".py",
   "mimetype": "text/x-python",
   "name": "python",
   "nbconvert_exporter": "python",
   "pygments_lexer": "ipython3",
   "version": "3.9.19"
  }
 },
 "nbformat": 4,
 "nbformat_minor": 2
}
