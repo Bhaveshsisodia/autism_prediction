{
 "cells": [
  {
   "cell_type": "code",
   "execution_count": 1,
   "metadata": {},
   "outputs": [],
   "source": [
    "import pandas as pd\n",
    "import pymongo\n",
    "\n",
    "from Autism.entity.config_entity import TrainingPipelineConfig, DataIngestionConfig , DataValidationConfig\n",
    "from Autism.logger import logging\n",
    "from Autism.entity.artifact_entity import DataIngestionArtifact, DataValidationArtifact\n",
    "\n",
    "from Autism.exception import AutismException\n",
    "import sys, os\n",
    "from Autism.components.data_ingestion import DataIngestion\n",
    "from Autism.components.data_validation import DataValidation\n"
   ]
  },
  {
   "cell_type": "markdown",
   "metadata": {},
   "source": [
    "## Data Ingestion"
   ]
  },
  {
   "cell_type": "code",
   "execution_count": 2,
   "metadata": {},
   "outputs": [
    {
     "name": "stdout",
     "output_type": "stream",
     "text": [
      "artifact\\08_07_2024_15_24_26\n",
      "mongodb://localhost:27017/\n",
      "autism_prediction\n",
      "None autism_prediction <Autism.configuration.mongo_db_connection.MongoDBClient object at 0x0000017845050580>\n",
      "      ID  A1_Score  A2_Score  A3_Score  A4_Score  A5_Score  A6_Score  \\\n",
      "0      1         1         0         1         0         1         0   \n",
      "1      2         0         0         0         0         0         0   \n",
      "2      3         1         1         1         1         1         1   \n",
      "3      4         0         0         0         0         0         0   \n",
      "4      5         0         0         0         0         0         0   \n",
      "..   ...       ...       ...       ...       ...       ...       ...   \n",
      "795  796         0         1         0         0         0         0   \n",
      "796  797         0         1         1         0         0         1   \n",
      "797  798         0         0         0         0         0         0   \n",
      "798  799         0         0         0         0         0         0   \n",
      "799  800         0         1         0         0         0         0   \n",
      "\n",
      "     A7_Score  A8_Score  A9_Score  ...  gender       ethnicity jaundice  \\\n",
      "0           1         0         1  ...   False               ?       no   \n",
      "1           0         0         0  ...       m               ?       no   \n",
      "2           1         1         1  ...       m  White-European       no   \n",
      "3           0         0         0  ...   False               ?       no   \n",
      "4           0         0         0  ...       m               ?       no   \n",
      "..        ...       ...       ...  ...     ...             ...      ...   \n",
      "795         0         0         1  ...       m        Hispanic       no   \n",
      "796         0         1         1  ...       m  White-European       no   \n",
      "797         0         0         0  ...       m     South Asian      yes   \n",
      "798         0         0         0  ...   False               ?       no   \n",
      "799         0         0         0  ...   False               ?       no   \n",
      "\n",
      "    austim         contry_of_res used_app_before     result     age_desc  \\\n",
      "0       no               Austria              no   6.351166  18 and more   \n",
      "1       no                 India              no   2.255185  18 and more   \n",
      "2      yes         United States              no  14.851484  18 and more   \n",
      "3       no         United States              no   2.276617  18 and more   \n",
      "4       no          South Africa              no  -4.777286  18 and more   \n",
      "..     ...                   ...             ...        ...          ...   \n",
      "795     no           New Zealand              no  12.999501  18 and more   \n",
      "796     no                Cyprus              no  13.561518  18 and more   \n",
      "797     no           New Zealand              no   2.653177  18 and more   \n",
      "798     no                Canada              no   9.069342  18 and more   \n",
      "799     no  United Arab Emirates             yes   2.243304  18 and more   \n",
      "\n",
      "     relation Class/ASD  \n",
      "0        Self         0  \n",
      "1        Self         0  \n",
      "2        Self         1  \n",
      "3        Self         0  \n",
      "4        Self         0  \n",
      "..        ...       ...  \n",
      "795      Self         0  \n",
      "796      Self         0  \n",
      "797      Self         0  \n",
      "798      Self         0  \n",
      "799      Self         0  \n",
      "\n",
      "[800 rows x 22 columns]\n"
     ]
    }
   ],
   "source": [
    "from Autism.components.data_ingestion import DataIngestion\n",
    "from Autism.entity.config_entity import DataIngestionConfig\n",
    "from Autism.entity.config_entity import TrainingPipelineConfig\n",
    "\n",
    "\n",
    "emp1 = DataIngestion(data_ingestion_config=DataIngestionConfig(training_pipeline_config=TrainingPipelineConfig()))\n",
    "data_ingestion_artifact=emp1.initiate_data_ingestion()"
   ]
  },
  {
   "cell_type": "markdown",
   "metadata": {},
   "source": [
    "## Data Validation"
   ]
  },
  {
   "cell_type": "code",
   "execution_count": 3,
   "metadata": {},
   "outputs": [
    {
     "name": "stdout",
     "output_type": "stream",
     "text": [
      "artifact\\08_07_2024_15_24_26\n"
     ]
    }
   ],
   "source": [
    "data_validation_config = DataValidationConfig(training_pipeline_config=TrainingPipelineConfig())\n",
    "logging.info(\"Start Data Validation !!!!!\")\n",
    "data_validation = DataValidation(data_ingestion_artifact=data_ingestion_artifact,\n",
    "                                    data_validation_config=data_validation_config)\n",
    "data_validation_artifact=data_validation.initiate_data_validation()"
   ]
  },
  {
   "cell_type": "code",
   "execution_count": 9,
   "metadata": {},
   "outputs": [],
   "source": [
    "train_df = pd.read_csv(r\"D:\\web Development using python\\autism_prediction\\artifact\\08_07_2024_15_00_00\\data_ingestion\\ingested\\train.csv\")\n"
   ]
  },
  {
   "cell_type": "code",
   "execution_count": 11,
   "metadata": {},
   "outputs": [
    {
     "data": {
      "text/plain": [
       "{'A1_Score': dtype('int64'),\n",
       " 'A2_Score': dtype('int64'),\n",
       " 'A3_Score': dtype('int64'),\n",
       " 'A4_Score': dtype('int64'),\n",
       " 'A5_Score': dtype('int64'),\n",
       " 'A6_Score': dtype('int64'),\n",
       " 'A7_Score': dtype('int64'),\n",
       " 'A8_Score': dtype('int64'),\n",
       " 'A9_Score': dtype('int64'),\n",
       " 'A10_Score': dtype('int64'),\n",
       " 'age': dtype('float64'),\n",
       " 'gender': dtype('O'),\n",
       " 'ethnicity': dtype('O'),\n",
       " 'jaundice': dtype('O'),\n",
       " 'austim': dtype('O'),\n",
       " 'contry_of_res': dtype('O'),\n",
       " 'used_app_before': dtype('O'),\n",
       " 'result': dtype('float64'),\n",
       " 'relation': dtype('O'),\n",
       " 'Class/ASD': dtype('int64')}"
      ]
     },
     "execution_count": 11,
     "metadata": {},
     "output_type": "execute_result"
    }
   ],
   "source": [
    "train_df.dtypes.to_dict()"
   ]
  },
  {
   "cell_type": "code",
   "execution_count": 18,
   "metadata": {},
   "outputs": [
    {
     "data": {
      "text/plain": [
       "{'A1_Score': 'int64',\n",
       " 'A2_Score': 'int64',\n",
       " 'A3_Score': 'int64',\n",
       " 'A4_Score': 'int64',\n",
       " 'A5_Score': 'int64',\n",
       " 'A6_Score': 'int64',\n",
       " 'A7_Score': 'int64',\n",
       " 'A8_Score': 'int64',\n",
       " 'A9_Score': 'int64',\n",
       " 'A10_Score': 'int64',\n",
       " 'age': 'float64',\n",
       " 'gender': 'object',\n",
       " 'ethnicity': 'object',\n",
       " 'jaundice': 'object',\n",
       " 'austim': 'object',\n",
       " 'contry_of_res': 'object',\n",
       " 'used_app_before': 'object',\n",
       " 'result': 'float64',\n",
       " 'relation': 'object',\n",
       " 'Class/ASD': 'int64'}"
      ]
     },
     "execution_count": 18,
     "metadata": {},
     "output_type": "execute_result"
    }
   ],
   "source": [
    "import pandas as pd\n",
    "import yaml\n",
    "\n",
    "# Example YAML content\n",
    "yaml_content = \"\"\"\n",
    "columns:\n",
    "  - A1_Score: int\n",
    "  - A2_Score: int\n",
    "  - A3_Score: int\n",
    "  - A4_Score: int\n",
    "  - A5_Score: int\n",
    "  - A6_Score: int\n",
    "  - A7_Score: int\n",
    "  - A8_Score: int\n",
    "  - A9_Score: int\n",
    "  - A10_Score: int\n",
    "  - age: float\n",
    "  - gender: category\n",
    "  - ethnicity: category\n",
    "  - jaundice: category\n",
    "  - austim: category\n",
    "  - contry_of_res: category\n",
    "  - used_app_before: category\n",
    "  - result: float\n",
    "  - relation: category\n",
    "  - Class/ASD: int\n",
    "\"\"\"\n",
    "\n",
    "# Load the YAML content\n",
    "yaml_data = yaml.safe_load(yaml_content)\n",
    "\n",
    "# Function to get the corresponding pandas data type\n",
    "def get_pandas_dtype(dtype):\n",
    "    if dtype == 'int':\n",
    "        return 'int64'\n",
    "    elif dtype == 'float':\n",
    "        return 'float64'\n",
    "    elif dtype == 'category':\n",
    "        return 'object'\n",
    "    else:\n",
    "        return None\n",
    "\n",
    "# Create a dictionary to store the expected data types from YAML\n",
    "expected_dtypes = {list(col.keys())[0]: get_pandas_dtype(list(col.values())[0]) for col in yaml_data['columns']}\n",
    "\n",
    "expected_dtypes"
   ]
  },
  {
   "cell_type": "code",
   "execution_count": null,
   "metadata": {},
   "outputs": [],
   "source": [
    "\n",
    "# Create a sample DataFrame with the same columns and data types\n",
    "data = {\n",
    "    'A1_Score': pd.Series([1, 2, 3], dtype='int64'),\n",
    "    'A2_Score': pd.Series([1, 2, 3], dtype='int64'),\n",
    "    'A3_Score': pd.Series([1, 2, 3], dtype='int64'),\n",
    "    'A4_Score': pd.Series([1, 2, 3], dtype='int64'),\n",
    "    'A5_Score': pd.Series([1, 2, 3], dtype='int64'),\n",
    "    'A6_Score': pd.Series([1, 2, 3], dtype='int64'),\n",
    "    'A7_Score': pd.Series([1, 2, 3], dtype='int64'),\n",
    "    'A8_Score': pd.Series([1, 2, 3], dtype='int64'),\n",
    "    'A9_Score': pd.Series([1, 2, 3], dtype='int64'),\n",
    "    'A10_Score': pd.Series([1, 2, 3], dtype='int64'),\n",
    "    'age': pd.Series([25.0, 30.0, 35.0], dtype='float64'),\n",
    "    'gender': pd.Series(['M', 'F', 'M'], dtype='category'),\n",
    "    'ethnicity': pd.Series(['Asian', 'Caucasian', 'African'], dtype='category'),\n",
    "    'jaundice': pd.Series(['yes', 'no', 'yes'], dtype='category'),\n",
    "    'austim': pd.Series(['no', 'yes', 'no'], dtype='category'),\n",
    "    'contry_of_res': pd.Series(['USA', 'Canada', 'UK'], dtype='category'),\n",
    "    'used_app_before': pd.Series(['yes', 'no', 'yes'], dtype='category'),\n",
    "    'result': pd.Series([1.5, 2.5, 3.5], dtype='float64'),\n",
    "    'relation': pd.Series(['Parent', 'Self', 'Relative'], dtype='category'),\n",
    "    'Class/ASD': pd.Series([0, 1, 0], dtype='int64')\n",
    "}\n",
    "\n",
    "df = pd.DataFrame(data)\n",
    "\n",
    "df.dtypes"
   ]
  },
  {
   "cell_type": "code",
   "execution_count": 15,
   "metadata": {},
   "outputs": [
    {
     "name": "stdout",
     "output_type": "stream",
     "text": [
      "True\n"
     ]
    }
   ],
   "source": [
    "\n",
    "# Compare data types\n",
    "def compare_dtypes(df, expected_dtypes):\n",
    "    for column, expected_dtype in expected_dtypes.items():\n",
    "        if column in df.columns:\n",
    "            if df[column].dtype.name != expected_dtype:\n",
    "                print(f\"Column {column} has type {df[column].dtype.name} but expected {expected_dtype}\")\n",
    "                return False\n",
    "        else:\n",
    "            print(f\"Column {column} not found in DataFrame\")\n",
    "            return False\n",
    "    return True\n",
    "\n",
    "# Run the comparison\n",
    "result = compare_dtypes(df, expected_dtypes)\n",
    "print(result)\n"
   ]
  },
  {
   "cell_type": "code",
   "execution_count": null,
   "metadata": {},
   "outputs": [],
   "source": []
  }
 ],
 "metadata": {
  "kernelspec": {
   "display_name": "Python 3",
   "language": "python",
   "name": "python3"
  },
  "language_info": {
   "codemirror_mode": {
    "name": "ipython",
    "version": 3
   },
   "file_extension": ".py",
   "mimetype": "text/x-python",
   "name": "python",
   "nbconvert_exporter": "python",
   "pygments_lexer": "ipython3",
   "version": "3.9.19"
  }
 },
 "nbformat": 4,
 "nbformat_minor": 2
}
