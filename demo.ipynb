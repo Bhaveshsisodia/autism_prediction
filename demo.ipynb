{
 "cells": [
  {
   "cell_type": "code",
   "execution_count": 1,
   "metadata": {},
   "outputs": [],
   "source": [
    "import pandas as pd\n",
    "import pymongo\n",
    "\n",
    "from Autism.entity.config_entity import TrainingPipelineConfig, DataIngestionConfig , DataValidationConfig, DataTransformationConfig, ModelTrainerConfig\n",
    "from Autism.logger import logging\n",
    "from Autism.entity.artifact_entity import DataIngestionArtifact, DataValidationArtifact, DataTransformationArtifact , ModelTrainerArtifact\n",
    "\n",
    "from Autism.exception import AutismException\n",
    "import sys, os\n",
    "from Autism.components.data_ingestion import DataIngestion\n",
    "from Autism.components.data_validation import DataValidation\n",
    "from Autism.components.data_transformation import DataTransformation\n",
    "from Autism.components.model_trainer import ModelTrainer"
   ]
  },
  {
   "cell_type": "markdown",
   "metadata": {},
   "source": [
    "## Data Ingestion"
   ]
  },
  {
   "cell_type": "code",
   "execution_count": 2,
   "metadata": {},
   "outputs": [
    {
     "name": "stdout",
     "output_type": "stream",
     "text": [
      "artifact\\08_10_2024_15_44_42\n",
      "mongodb://localhost:27017/\n",
      "autism_prediction\n",
      "None autism_prediction <Autism.configuration.mongo_db_connection.MongoDBClient object at 0x0000017ABC35E2E0>\n",
      "      ID  A1_Score  A2_Score  A3_Score  A4_Score  A5_Score  A6_Score  \\\n",
      "0      1         1         0         1         0         1         0   \n",
      "1      2         0         0         0         0         0         0   \n",
      "2      3         1         1         1         1         1         1   \n",
      "3      4         0         0         0         0         0         0   \n",
      "4      5         0         0         0         0         0         0   \n",
      "..   ...       ...       ...       ...       ...       ...       ...   \n",
      "795  796         0         1         0         0         0         0   \n",
      "796  797         0         1         1         0         0         1   \n",
      "797  798         0         0         0         0         0         0   \n",
      "798  799         0         0         0         0         0         0   \n",
      "799  800         0         1         0         0         0         0   \n",
      "\n",
      "     A7_Score  A8_Score  A9_Score  ...  gender       ethnicity jaundice  \\\n",
      "0           1         0         1  ...   False               ?       no   \n",
      "1           0         0         0  ...       m               ?       no   \n",
      "2           1         1         1  ...       m  White-European       no   \n",
      "3           0         0         0  ...   False               ?       no   \n",
      "4           0         0         0  ...       m               ?       no   \n",
      "..        ...       ...       ...  ...     ...             ...      ...   \n",
      "795         0         0         1  ...       m        Hispanic       no   \n",
      "796         0         1         1  ...       m  White-European       no   \n",
      "797         0         0         0  ...       m     South Asian      yes   \n",
      "798         0         0         0  ...   False               ?       no   \n",
      "799         0         0         0  ...   False               ?       no   \n",
      "\n",
      "    austim         contry_of_res used_app_before     result     age_desc  \\\n",
      "0       no               Austria              no   6.351166  18 and more   \n",
      "1       no                 India              no   2.255185  18 and more   \n",
      "2      yes         United States              no  14.851484  18 and more   \n",
      "3       no         United States              no   2.276617  18 and more   \n",
      "4       no          South Africa              no  -4.777286  18 and more   \n",
      "..     ...                   ...             ...        ...          ...   \n",
      "795     no           New Zealand              no  12.999501  18 and more   \n",
      "796     no                Cyprus              no  13.561518  18 and more   \n",
      "797     no           New Zealand              no   2.653177  18 and more   \n",
      "798     no                Canada              no   9.069342  18 and more   \n",
      "799     no  United Arab Emirates             yes   2.243304  18 and more   \n",
      "\n",
      "     relation Class/ASD  \n",
      "0        Self         0  \n",
      "1        Self         0  \n",
      "2        Self         1  \n",
      "3        Self         0  \n",
      "4        Self         0  \n",
      "..        ...       ...  \n",
      "795      Self         0  \n",
      "796      Self         0  \n",
      "797      Self         0  \n",
      "798      Self         0  \n",
      "799      Self         0  \n",
      "\n",
      "[800 rows x 22 columns]\n"
     ]
    }
   ],
   "source": [
    "from Autism.components.data_ingestion import DataIngestion\n",
    "from Autism.entity.config_entity import DataIngestionConfig\n",
    "from Autism.entity.config_entity import TrainingPipelineConfig\n",
    "\n",
    "\n",
    "emp1 = DataIngestion(data_ingestion_config=DataIngestionConfig(training_pipeline_config=TrainingPipelineConfig()))\n",
    "data_ingestion_artifact=emp1.initiate_data_ingestion()"
   ]
  },
  {
   "cell_type": "markdown",
   "metadata": {},
   "source": [
    "## Data Validation"
   ]
  },
  {
   "cell_type": "code",
   "execution_count": 3,
   "metadata": {},
   "outputs": [
    {
     "name": "stdout",
     "output_type": "stream",
     "text": [
      "artifact\\08_10_2024_15_44_42\n"
     ]
    }
   ],
   "source": [
    "data_validation_config = DataValidationConfig(training_pipeline_config=TrainingPipelineConfig())\n",
    "logging.info(\"Start Data Validation !!!!!\")\n",
    "data_validation = DataValidation(data_ingestion_artifact=data_ingestion_artifact,\n",
    "                                    data_validation_config=data_validation_config)\n",
    "data_validation_artifact=data_validation.initiate_data_validation()"
   ]
  },
  {
   "cell_type": "markdown",
   "metadata": {},
   "source": [
    "## Data Transformation"
   ]
  },
  {
   "cell_type": "code",
   "execution_count": 4,
   "metadata": {},
   "outputs": [
    {
     "name": "stdout",
     "output_type": "stream",
     "text": [
      "artifact\\08_10_2024_15_44_42\n",
      "['ageGroup'] ['gender', 'ethnicity', 'jaundice', 'austim', 'contry_of_res', 'used_app_before', 'relation'] ['result', 'age'] ['result', 'age', 'A1_Score', 'A2_Score', 'A3_Score', 'A4_Score', 'A5_Score', 'A6_Score', 'A7_Score', 'A8_Score', 'A9_Score', 'A10_Score']\n",
      "20 20\n",
      "46 46\n",
      "47 47\n"
     ]
    }
   ],
   "source": [
    "data_transformation_config = DataTransformationConfig(training_pipeline_config=TrainingPipelineConfig())\n",
    "data_transformation=DataTransformation(data_validation_artifact=data_validation_artifact,\n",
    "                                    data_transformation_config=data_transformation_config)\n",
    "data_transformation_artifact=data_transformation.initiate_data_transformer()\n",
    "\n",
    "\n"
   ]
  },
  {
   "cell_type": "markdown",
   "metadata": {},
   "source": [
    "## Model Trainer"
   ]
  },
  {
   "cell_type": "code",
   "execution_count": 5,
   "metadata": {},
   "outputs": [
    {
     "name": "stdout",
     "output_type": "stream",
     "text": [
      "artifact\\08_10_2024_15_44_42\n",
      "47\n",
      "47\n",
      "{'module_0': {'class': 'LogisticRegression', 'module': 'sklearn.linear_model', 'params': {'penalty': 'l2', 'fit_intercept': True}, 'search_param_grid': {'penalty': ['l2'], 'fit_intercept': [True]}}, 'module_1': {'class': 'RandomForestClassifier', 'module': 'sklearn.ensemble', 'params': {'n_estimators': 100, 'min_samples_leaf': 1}, 'search_param_grid': {'n_estimators': [1800], 'min_samples_leaf': [6], 'max_features': ['auto'], 'max_depth': [10], 'min_samples_split': [5], 'criterion': ['entropy']}}}\n",
      "{'penalty': 'l2', 'fit_intercept': True}\n",
      "{'n_estimators': 100, 'min_samples_leaf': 1}\n",
      "{'cv': 4, 'verbose': 2}\n",
      "Fitting 4 folds for each of 1 candidates, totalling 4 fits\n",
      "[CV] END .....................fit_intercept=True, penalty=l2; total time=   0.0s\n",
      "[CV] END .....................fit_intercept=True, penalty=l2; total time=   0.0s\n",
      "[CV] END .....................fit_intercept=True, penalty=l2; total time=   0.0s\n",
      "[CV] END .....................fit_intercept=True, penalty=l2; total time=   0.0s\n",
      "{'cv': 4, 'verbose': 2}\n",
      "Fitting 4 folds for each of 1 candidates, totalling 4 fits\n"
     ]
    },
    {
     "name": "stderr",
     "output_type": "stream",
     "text": [
      "d:\\web Development using python\\autism_prediction\\autism_env\\lib\\site-packages\\sklearn\\ensemble\\_forest.py:427: FutureWarning: `max_features='auto'` has been deprecated in 1.1 and will be removed in 1.3. To keep the past behaviour, explicitly set `max_features='sqrt'` or remove this parameter as it is also the default value for RandomForestClassifiers and ExtraTreesClassifiers.\n",
      "  warn(\n"
     ]
    },
    {
     "name": "stdout",
     "output_type": "stream",
     "text": [
      "[CV] END criterion=entropy, max_depth=10, max_features=auto, min_samples_leaf=6, min_samples_split=5, n_estimators=1800; total time=   2.2s\n"
     ]
    },
    {
     "name": "stderr",
     "output_type": "stream",
     "text": [
      "d:\\web Development using python\\autism_prediction\\autism_env\\lib\\site-packages\\sklearn\\ensemble\\_forest.py:427: FutureWarning: `max_features='auto'` has been deprecated in 1.1 and will be removed in 1.3. To keep the past behaviour, explicitly set `max_features='sqrt'` or remove this parameter as it is also the default value for RandomForestClassifiers and ExtraTreesClassifiers.\n",
      "  warn(\n"
     ]
    },
    {
     "name": "stdout",
     "output_type": "stream",
     "text": [
      "[CV] END criterion=entropy, max_depth=10, max_features=auto, min_samples_leaf=6, min_samples_split=5, n_estimators=1800; total time=   1.9s\n"
     ]
    },
    {
     "name": "stderr",
     "output_type": "stream",
     "text": [
      "d:\\web Development using python\\autism_prediction\\autism_env\\lib\\site-packages\\sklearn\\ensemble\\_forest.py:427: FutureWarning: `max_features='auto'` has been deprecated in 1.1 and will be removed in 1.3. To keep the past behaviour, explicitly set `max_features='sqrt'` or remove this parameter as it is also the default value for RandomForestClassifiers and ExtraTreesClassifiers.\n",
      "  warn(\n"
     ]
    },
    {
     "name": "stdout",
     "output_type": "stream",
     "text": [
      "[CV] END criterion=entropy, max_depth=10, max_features=auto, min_samples_leaf=6, min_samples_split=5, n_estimators=1800; total time=   1.9s\n"
     ]
    },
    {
     "name": "stderr",
     "output_type": "stream",
     "text": [
      "d:\\web Development using python\\autism_prediction\\autism_env\\lib\\site-packages\\sklearn\\ensemble\\_forest.py:427: FutureWarning: `max_features='auto'` has been deprecated in 1.1 and will be removed in 1.3. To keep the past behaviour, explicitly set `max_features='sqrt'` or remove this parameter as it is also the default value for RandomForestClassifiers and ExtraTreesClassifiers.\n",
      "  warn(\n"
     ]
    },
    {
     "name": "stdout",
     "output_type": "stream",
     "text": [
      "[CV] END criterion=entropy, max_depth=10, max_features=auto, min_samples_leaf=6, min_samples_split=5, n_estimators=1800; total time=   1.9s\n"
     ]
    },
    {
     "name": "stderr",
     "output_type": "stream",
     "text": [
      "d:\\web Development using python\\autism_prediction\\autism_env\\lib\\site-packages\\sklearn\\ensemble\\_forest.py:427: FutureWarning: `max_features='auto'` has been deprecated in 1.1 and will be removed in 1.3. To keep the past behaviour, explicitly set `max_features='sqrt'` or remove this parameter as it is also the default value for RandomForestClassifiers and ExtraTreesClassifiers.\n",
      "  warn(\n"
     ]
    },
    {
     "name": "stdout",
     "output_type": "stream",
     "text": [
      "46\n",
      "46\n",
      "46\n",
      "46\n"
     ]
    }
   ],
   "source": [
    "model_trainer_config = ModelTrainerConfig(training_pipeline_config=TrainingPipelineConfig())\n",
    "model_trainer=ModelTrainer(model_trainer_config , data_transformation_artifact)\n",
    "model_trainer_artifact = model_trainer.initiate_model_trainer()\n",
    "\n"
   ]
  },
  {
   "cell_type": "code",
   "execution_count": 7,
   "metadata": {},
   "outputs": [
    {
     "data": {
      "text/plain": [
       "ModelTrainerArtifact(is_trained=True, message='Model Trained successfully', trained_model_file_path='artifact\\\\08_10_2024_15_44_42\\\\model_trainer\\\\trained_model\\\\model.pkl', train_acc=0.9244444444444444, test_acc=0.9244444444444444, train_prec=0.889795918367347, test_prec=0.8089887640449438, train_recall=0.9688888888888889, test_recall=0.7619047619047619, model_accuracy=0.8525349728236656)"
      ]
     },
     "execution_count": 7,
     "metadata": {},
     "output_type": "execute_result"
    }
   ],
   "source": [
    "model_trainer_artifact"
   ]
  },
  {
   "cell_type": "code",
   "execution_count": null,
   "metadata": {},
   "outputs": [],
   "source": []
  }
 ],
 "metadata": {
  "kernelspec": {
   "display_name": "Python 3",
   "language": "python",
   "name": "python3"
  },
  "language_info": {
   "codemirror_mode": {
    "name": "ipython",
    "version": 3
   },
   "file_extension": ".py",
   "mimetype": "text/x-python",
   "name": "python",
   "nbconvert_exporter": "python",
   "pygments_lexer": "ipython3",
   "version": "3.9.19"
  }
 },
 "nbformat": 4,
 "nbformat_minor": 2
}
